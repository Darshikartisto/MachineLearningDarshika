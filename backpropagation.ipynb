{
  "nbformat": 4,
  "nbformat_minor": 0,
  "metadata": {
    "colab": {
      "provenance": [],
      "authorship_tag": "ABX9TyNqbTNDYrTg5l83SfBTVrfA",
      "include_colab_link": true
    },
    "kernelspec": {
      "name": "python3",
      "display_name": "Python 3"
    },
    "language_info": {
      "name": "python"
    }
  },
  "cells": [
    {
      "cell_type": "markdown",
      "metadata": {
        "id": "view-in-github",
        "colab_type": "text"
      },
      "source": [
        "<a href=\"https://colab.research.google.com/github/Darshikartisto/MachineLearningDarshika/blob/main/backpropagation.ipynb\" target=\"_parent\"><img src=\"https://colab.research.google.com/assets/colab-badge.svg\" alt=\"Open In Colab\"/></a>"
      ]
    },
    {
      "cell_type": "code",
      "execution_count": 48,
      "metadata": {
        "id": "FTCOw60310lk"
      },
      "outputs": [],
      "source": [
        "import math\n",
        "import numpy as np\n",
        "import matplotlib.pyplot as plt\n",
        "%matplotlib inline"
      ]
    },
    {
      "cell_type": "code",
      "source": [
        "def f(x):\n",
        "  return 3+x**2+5"
      ],
      "metadata": {
        "id": "Mty2MvbW2I_u"
      },
      "execution_count": 49,
      "outputs": []
    },
    {
      "cell_type": "code",
      "source": [
        "f(3.0)"
      ],
      "metadata": {
        "colab": {
          "base_uri": "https://localhost:8080/"
        },
        "id": "L4KLIGQY2SW_",
        "outputId": "4ada1c37-3ee9-4fea-cf68-38ffc1b3524a"
      },
      "execution_count": 50,
      "outputs": [
        {
          "output_type": "execute_result",
          "data": {
            "text/plain": [
              "17.0"
            ]
          },
          "metadata": {},
          "execution_count": 50
        }
      ]
    },
    {
      "cell_type": "code",
      "source": [
        "xs=np.arange(-5,5,0.25)\n",
        "xs"
      ],
      "metadata": {
        "colab": {
          "base_uri": "https://localhost:8080/"
        },
        "id": "z4JPxogK2UMS",
        "outputId": "fe4ec81b-7d50-433d-e024-5d0779055714"
      },
      "execution_count": 51,
      "outputs": [
        {
          "output_type": "execute_result",
          "data": {
            "text/plain": [
              "array([-5.  , -4.75, -4.5 , -4.25, -4.  , -3.75, -3.5 , -3.25, -3.  ,\n",
              "       -2.75, -2.5 , -2.25, -2.  , -1.75, -1.5 , -1.25, -1.  , -0.75,\n",
              "       -0.5 , -0.25,  0.  ,  0.25,  0.5 ,  0.75,  1.  ,  1.25,  1.5 ,\n",
              "        1.75,  2.  ,  2.25,  2.5 ,  2.75,  3.  ,  3.25,  3.5 ,  3.75,\n",
              "        4.  ,  4.25,  4.5 ,  4.75])"
            ]
          },
          "metadata": {},
          "execution_count": 51
        }
      ]
    },
    {
      "cell_type": "code",
      "source": [
        "ys=f(xs)\n",
        "ys"
      ],
      "metadata": {
        "colab": {
          "base_uri": "https://localhost:8080/"
        },
        "id": "giyotlCY2gFN",
        "outputId": "c4ace318-762b-4c7b-b269-a2ded66df7e1"
      },
      "execution_count": 52,
      "outputs": [
        {
          "output_type": "execute_result",
          "data": {
            "text/plain": [
              "array([33.    , 30.5625, 28.25  , 26.0625, 24.    , 22.0625, 20.25  ,\n",
              "       18.5625, 17.    , 15.5625, 14.25  , 13.0625, 12.    , 11.0625,\n",
              "       10.25  ,  9.5625,  9.    ,  8.5625,  8.25  ,  8.0625,  8.    ,\n",
              "        8.0625,  8.25  ,  8.5625,  9.    ,  9.5625, 10.25  , 11.0625,\n",
              "       12.    , 13.0625, 14.25  , 15.5625, 17.    , 18.5625, 20.25  ,\n",
              "       22.0625, 24.    , 26.0625, 28.25  , 30.5625])"
            ]
          },
          "metadata": {},
          "execution_count": 52
        }
      ]
    },
    {
      "cell_type": "code",
      "source": [
        "plt.plot(xs,ys)"
      ],
      "metadata": {
        "colab": {
          "base_uri": "https://localhost:8080/",
          "height": 447
        },
        "id": "00aJEZpZ2q-c",
        "outputId": "e5061ceb-818b-4ba8-833c-a0c6a3f2da56"
      },
      "execution_count": 53,
      "outputs": [
        {
          "output_type": "execute_result",
          "data": {
            "text/plain": [
              "[<matplotlib.lines.Line2D at 0x7f9f20fb6590>]"
            ]
          },
          "metadata": {},
          "execution_count": 53
        },
        {
          "output_type": "display_data",
          "data": {
            "text/plain": [
              "<Figure size 640x480 with 1 Axes>"
            ],
            "image/png": "[encoded data removed]"
          },
          "metadata": {}
        }
      ]
    },
    {
      "cell_type": "code",
      "source": [
        "h=0.000001\n",
        "x=2/3\n",
        "(f(x+h)-f(x))/h"
      ],
      "metadata": {
        "colab": {
          "base_uri": "https://localhost:8080/"
        },
        "id": "mZ3U4bIe2w03",
        "outputId": "0def2f7c-22be-4893-816f-f96981d21e5e"
      },
      "execution_count": 54,
      "outputs": [
        {
          "output_type": "execute_result",
          "data": {
            "text/plain": [
              "1.3333343336086045"
            ]
          },
          "metadata": {},
          "execution_count": 54
        }
      ]
    },
    {
      "cell_type": "code",
      "source": [
        "a=2.0\n",
        "b=-3.0\n",
        "c=10.0\n",
        "d=a*b+c\n",
        "print(d)"
      ],
      "metadata": {
        "colab": {
          "base_uri": "https://localhost:8080/"
        },
        "id": "ukM3SK_66uEE",
        "outputId": "4fd0559b-f239-4920-e633-9203fd7cecae"
      },
      "execution_count": 55,
      "outputs": [
        {
          "output_type": "stream",
          "name": "stdout",
          "text": [
            "4.0\n"
          ]
        }
      ]
    },
    {
      "cell_type": "code",
      "source": [
        "h=0.001\n",
        "a=2.0\n",
        "b=-3.0\n",
        "c=10.0\n",
        "d1=a*b+c\n",
        "a+=h\n",
        "d2=a*b+c\n",
        "print('d1',d1)\n",
        "print('d2',d2)\n",
        "print('slope',(d2-d1)/h)\n",
        "#differentiating the function d1=a*b+c with respect to a gives b that states the fact that the slope is equal to -3\n",
        "#and the slopes are both sath calculated one and the actual one"
      ],
      "metadata": {
        "colab": {
          "base_uri": "https://localhost:8080/"
        },
        "id": "KS8fQp9H7NN8",
        "outputId": "516b8b54-e912-4b57-d643-1f4316922bfa"
      },
      "execution_count": 56,
      "outputs": [
        {
          "output_type": "stream",
          "name": "stdout",
          "text": [
            "d1 4.0\n",
            "d2 3.997\n",
            "slope -3.0000000000001137\n"
          ]
        }
      ]
    },
    {
      "cell_type": "code",
      "source": [
        "class value:\n",
        "  def __init__(self,data,_children=(),_op='',label=''):\n",
        "    self.data=data\n",
        "    self._prev=set(_children)\n",
        "    self._op=_op\n",
        "    self.label=label\n",
        "  def __repr__(self):\n",
        "    return f\"value data={self.data}\"\n",
        "  def __add__(self,other):\n",
        "    out=value(self.data+other.data,(self,other),'+')\n",
        "    return out\n",
        "  def __mul__(self,other):\n",
        "    out=value(self.data*other.data,(self,other),'*')\n",
        "    return out\n",
        "\n",
        "a=value(2.0,label='a')\n",
        "b=value(-3.0,label='b')\n",
        "c=value(10.0,label='c')\n",
        "e=a*b; e.label='e'\n",
        "d=e+c;d.label='d'\n",
        "d"
      ],
      "metadata": {
        "id": "pGxC4aB3hLkm",
        "colab": {
          "base_uri": "https://localhost:8080/"
        },
        "outputId": "639c274b-56b0-40bd-8ad3-1f573e222eaa"
      },
      "execution_count": 61,
      "outputs": [
        {
          "output_type": "execute_result",
          "data": {
            "text/plain": [
              "value data=4.0"
            ]
          },
          "metadata": {},
          "execution_count": 61
        }
      ]
    },
    {
      "cell_type": "code",
      "source": [
        "d._prev"
      ],
      "metadata": {
        "colab": {
          "base_uri": "https://localhost:8080/"
        },
        "id": "tLKB_M8hwjiO",
        "outputId": "989550de-dd08-4849-c48a-92c8cfa0e966"
      },
      "execution_count": 62,
      "outputs": [
        {
          "output_type": "execute_result",
          "data": {
            "text/plain": [
              "{value data=-6.0, value data=10.0}"
            ]
          },
          "metadata": {},
          "execution_count": 62
        }
      ]
    },
    {
      "cell_type": "code",
      "source": [
        "from graphviz import Digraph\n",
        "def trace(root):\n",
        "  nodes,edges=set(),set()\n",
        "  def build(v):\n",
        "    if v not in nodes:\n",
        "      nodes.add(v)\n",
        "      for child in v._prev:\n",
        "        edges.add((child,v))\n",
        "        build(child)\n",
        "  build(root)\n",
        "  return nodes,edges\n",
        "\n",
        "def draw_dot(root):\n",
        "  dot=Digraph(format='svg',graph_attr={'rankdir':'LR'})\n",
        "  nodes,edges=trace(root)\n",
        "  for n in nodes:\n",
        "    uid=str(id(n))\n",
        "    dot.node(name=uid, label=\"{%s|data %.4f}\" % (n.label,n.data,), shape='record')\n",
        "    if n._op:\n",
        "      dot.node(name=uid+n._op,label=n._op)\n",
        "      dot.edge(uid+n._op,uid)\n",
        "\n",
        "  for n1,n2 in edges:\n",
        "    dot.edge(str(id(n1)),str(id(n2))+n2._op)\n",
        "  return dot"
      ],
      "metadata": {
        "id": "vm-jV4k33L2x"
      },
      "execution_count": 63,
      "outputs": []
    },
    {
      "cell_type": "code",
      "source": [
        "draw_dot(d)"
      ],
      "metadata": {
        "colab": {
          "base_uri": "https://localhost:8080/",
          "height": 191
        },
        "id": "YNmbe3Fu6Egc",
        "outputId": "81194f9c-5051-466e-f0e0-7c958644f4b2"
      },
      "execution_count": 64,
      "outputs": [
        {
          "output_type": "execute_result",
          "data": {
            "image/svg+xml": "<?xml version=\"1.0\" encoding=\"UTF-8\" standalone=\"no\"?>\n<!DOCTYPE svg PUBLIC \"-//W3C//DTD SVG 1.1//EN\"\n \"http://www.w3.org/Graphics/SVG/1.1/DTD/svg11.dtd\">\n<!-- Generated by graphviz version 2.43.0 (0)\n -->\n<!-- Title: %3 Pages: 1 -->\n<svg width=\"581pt\" height=\"127pt\"\n viewBox=\"0.00 0.00 581.00 127.00\" xmlns=\"http://www.w3.org/2000/svg\" xmlns:xlink=\"http://www.w3.org/1999/xlink\">\n<g id=\"graph0\" class=\"graph\" transform=\"scale(1 1) rotate(0) translate(4 123)\">\n<title>%3</title>\n<polygon fill=\"white\" stroke=\"transparent\" points=\"-4,4 -4,-123 577,-123 577,4 -4,4\"/>\n<!-- 140321427680288 -->\n<g id=\"node1\" class=\"node\">\n<title>140321427680288</title>\n<polygon fill=\"none\" stroke=\"black\" points=\"234,-82.5 234,-118.5 344,-118.5 344,-82.5 234,-82.5\"/>\n<text text-anchor=\"middle\" x=\"245.5\" y=\"-96.8\" font-family=\"Times,serif\" font-size=\"14.00\">c</text>\n<polyline fill=\"none\" stroke=\"black\" points=\"257,-82.5 257,-118.5 \"/>\n<text text-anchor=\"middle\" x=\"300.5\" y=\"-96.8\" font-family=\"Times,serif\" font-size=\"14.00\">data 10.0000</text>\n</g>\n<!-- 140321427678848+ -->\n<g id=\"node3\" class=\"node\">\n<title>140321427678848+</title>\n<ellipse fill=\"none\" stroke=\"black\" cx=\"407\" cy=\"-72.5\" rx=\"27\" ry=\"18\"/>\n<text text-anchor=\"middle\" x=\"407\" y=\"-68.8\" font-family=\"Times,serif\" font-size=\"14.00\">+</text>\n</g>\n<!-- 140321427680288&#45;&gt;140321427678848+ -->\n<g id=\"edge4\" class=\"edge\">\n<title>140321427680288&#45;&gt;140321427678848+</title>\n<path fill=\"none\" stroke=\"black\" d=\"M344.26,-87.4C353.49,-85.18 362.84,-82.92 371.37,-80.86\"/>\n<polygon fill=\"black\" stroke=\"black\" points=\"372.42,-84.21 381.32,-78.46 370.78,-77.4 372.42,-84.21\"/>\n</g>\n<!-- 140321427678848 -->\n<g id=\"node2\" class=\"node\">\n<title>140321427678848</title>\n<polygon fill=\"none\" stroke=\"black\" points=\"470,-54.5 470,-90.5 573,-90.5 573,-54.5 470,-54.5\"/>\n<text text-anchor=\"middle\" x=\"481.5\" y=\"-68.8\" font-family=\"Times,serif\" font-size=\"14.00\">d</text>\n<polyline fill=\"none\" stroke=\"black\" points=\"493,-54.5 493,-90.5 \"/>\n<text text-anchor=\"middle\" x=\"533\" y=\"-68.8\" font-family=\"Times,serif\" font-size=\"14.00\">data 4.0000</text>\n</g>\n<!-- 140321427678848+&#45;&gt;140321427678848 -->\n<g id=\"edge1\" class=\"edge\">\n<title>140321427678848+&#45;&gt;140321427678848</title>\n<path fill=\"none\" stroke=\"black\" d=\"M434.09,-72.5C441.83,-72.5 450.64,-72.5 459.61,-72.5\"/>\n<polygon fill=\"black\" stroke=\"black\" points=\"459.76,-76 469.76,-72.5 459.76,-69 459.76,-76\"/>\n</g>\n<!-- 140321429174160 -->\n<g id=\"node4\" class=\"node\">\n<title>140321429174160</title>\n<polygon fill=\"none\" stroke=\"black\" points=\"0,-55.5 0,-91.5 108,-91.5 108,-55.5 0,-55.5\"/>\n<text text-anchor=\"middle\" x=\"11.5\" y=\"-69.8\" font-family=\"Times,serif\" font-size=\"14.00\">b</text>\n<polyline fill=\"none\" stroke=\"black\" points=\"23,-55.5 23,-91.5 \"/>\n<text text-anchor=\"middle\" x=\"65.5\" y=\"-69.8\" font-family=\"Times,serif\" font-size=\"14.00\">data &#45;3.0000</text>\n</g>\n<!-- 140321427685328* -->\n<g id=\"node6\" class=\"node\">\n<title>140321427685328*</title>\n<ellipse fill=\"none\" stroke=\"black\" cx=\"171\" cy=\"-45.5\" rx=\"27\" ry=\"18\"/>\n<text text-anchor=\"middle\" x=\"171\" y=\"-41.8\" font-family=\"Times,serif\" font-size=\"14.00\">*</text>\n</g>\n<!-- 140321429174160&#45;&gt;140321427685328* -->\n<g id=\"edge6\" class=\"edge\">\n<title>140321429174160&#45;&gt;140321427685328*</title>\n<path fill=\"none\" stroke=\"black\" d=\"M108.12,-60.57C117.51,-58.28 127.06,-55.95 135.76,-53.84\"/>\n<polygon fill=\"black\" stroke=\"black\" points=\"136.62,-57.23 145.51,-51.46 134.97,-50.43 136.62,-57.23\"/>\n</g>\n<!-- 140321427685328 -->\n<g id=\"node5\" class=\"node\">\n<title>140321427685328</title>\n<polygon fill=\"none\" stroke=\"black\" points=\"235,-27.5 235,-63.5 343,-63.5 343,-27.5 235,-27.5\"/>\n<text text-anchor=\"middle\" x=\"246.5\" y=\"-41.8\" font-family=\"Times,serif\" font-size=\"14.00\">e</text>\n<polyline fill=\"none\" stroke=\"black\" points=\"258,-27.5 258,-63.5 \"/>\n<text text-anchor=\"middle\" x=\"300.5\" y=\"-41.8\" font-family=\"Times,serif\" font-size=\"14.00\">data &#45;6.0000</text>\n</g>\n<!-- 140321427685328&#45;&gt;140321427678848+ -->\n<g id=\"edge3\" class=\"edge\">\n<title>140321427685328&#45;&gt;140321427678848+</title>\n<path fill=\"none\" stroke=\"black\" d=\"M343.25,-57.89C352.75,-60.11 362.43,-62.36 371.24,-64.41\"/>\n<polygon fill=\"black\" stroke=\"black\" points=\"370.6,-67.85 381.14,-66.71 372.19,-61.04 370.6,-67.85\"/>\n</g>\n<!-- 140321427685328*&#45;&gt;140321427685328 -->\n<g id=\"edge2\" class=\"edge\">\n<title>140321427685328*&#45;&gt;140321427685328</title>\n<path fill=\"none\" stroke=\"black\" d=\"M198.03,-45.5C206.08,-45.5 215.32,-45.5 224.74,-45.5\"/>\n<polygon fill=\"black\" stroke=\"black\" points=\"224.99,-49 234.99,-45.5 224.99,-42 224.99,-49\"/>\n</g>\n<!-- 140321429171184 -->\n<g id=\"node7\" class=\"node\">\n<title>140321429171184</title>\n<polygon fill=\"none\" stroke=\"black\" points=\"2.5,-0.5 2.5,-36.5 105.5,-36.5 105.5,-0.5 2.5,-0.5\"/>\n<text text-anchor=\"middle\" x=\"14\" y=\"-14.8\" font-family=\"Times,serif\" font-size=\"14.00\">a</text>\n<polyline fill=\"none\" stroke=\"black\" points=\"25.5,-0.5 25.5,-36.5 \"/>\n<text text-anchor=\"middle\" x=\"65.5\" y=\"-14.8\" font-family=\"Times,serif\" font-size=\"14.00\">data 2.0000</text>\n</g>\n<!-- 140321429171184&#45;&gt;140321427685328* -->\n<g id=\"edge5\" class=\"edge\">\n<title>140321429171184&#45;&gt;140321427685328*</title>\n<path fill=\"none\" stroke=\"black\" d=\"M105.78,-30.42C115.74,-32.76 125.98,-35.17 135.28,-37.35\"/>\n<polygon fill=\"black\" stroke=\"black\" points=\"134.77,-40.82 145.3,-39.7 136.37,-34.01 134.77,-40.82\"/>\n</g>\n</g>\n</svg>\n",
            "text/plain": [
              "<graphviz.graphs.Digraph at 0x7f9f20d9e560>"
            ]
          },
          "metadata": {},
          "execution_count": 64
        }
      ]
    },
    {
      "cell_type": "code",
      "source": [],
      "metadata": {
        "id": "qGIJ2ntBSlK8"
      },
      "execution_count": null,
      "outputs": []
    }
  ]
}